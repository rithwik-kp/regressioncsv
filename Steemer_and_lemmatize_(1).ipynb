{
  "cells": [
    {
      "cell_type": "markdown",
      "metadata": {
        "id": "view-in-github",
        "colab_type": "text"
      },
      "source": [
        "<a href=\"https://colab.research.google.com/github/rithwik-kp/regressioncsv/blob/master/Steemer_and_lemmatize_(1).ipynb\" target=\"_parent\"><img src=\"https://colab.research.google.com/assets/colab-badge.svg\" alt=\"Open In Colab\"/></a>"
      ]
    },
    {
      "cell_type": "code",
      "execution_count": null,
      "id": "61f1cea4-a754-4e20-869b-01ac7e456249",
      "metadata": {
        "id": "61f1cea4-a754-4e20-869b-01ac7e456249"
      },
      "outputs": [],
      "source": [
        "article_text=\"Just what is agility in the context of software engineering work? Ivar Jacobs\"\n"
      ]
    },
    {
      "cell_type": "code",
      "execution_count": null,
      "id": "922b923e-f005-4f2e-889f-740f0594e3c7",
      "metadata": {
        "id": "922b923e-f005-4f2e-889f-740f0594e3c7"
      },
      "outputs": [],
      "source": [
        "import re\n",
        "import nltk\n",
        "from nltk.tokenize import word_tokenize\n"
      ]
    },
    {
      "cell_type": "code",
      "execution_count": null,
      "id": "bc98a457-ae24-4f52-87ee-0b410e58abaa",
      "metadata": {
        "id": "bc98a457-ae24-4f52-87ee-0b410e58abaa",
        "outputId": "5a24389a-8ab8-4c65-cdee-3cd35e6133ca"
      },
      "outputs": [
        {
          "data": {
            "text/plain": [
              "'just what is agility in the context of software engineering work? ivar jacobs'"
            ]
          },
          "execution_count": 5,
          "metadata": {},
          "output_type": "execute_result"
        }
      ],
      "source": [
        "article_text = article_text.lower()\n",
        "article_text\n"
      ]
    },
    {
      "cell_type": "code",
      "execution_count": null,
      "id": "d375cedd-4bf9-4251-8099-76a7f67cdfbc",
      "metadata": {
        "id": "d375cedd-4bf9-4251-8099-76a7f67cdfbc",
        "outputId": "804cb71a-5523-40ac-e114-7016098af0f6"
      },
      "outputs": [
        {
          "data": {
            "text/plain": [
              "'just what is agility in the context of software engineering work ivar jacobs'"
            ]
          },
          "execution_count": 7,
          "metadata": {},
          "output_type": "execute_result"
        }
      ],
      "source": [
        "clean_text = re.sub(r'[^a-zA-Z\\s]', '', article_text)\n",
        "clean_text\n"
      ]
    },
    {
      "cell_type": "code",
      "execution_count": null,
      "id": "9c8d3058-3e8d-418d-8a3b-ad637434a262",
      "metadata": {
        "id": "9c8d3058-3e8d-418d-8a3b-ad637434a262",
        "outputId": "92fe0afa-7a54-4221-ef5b-421d614df50b"
      },
      "outputs": [
        {
          "data": {
            "text/plain": [
              "['just what is agility in the context of software engineering work?',\n",
              " 'ivar jacobs']"
            ]
          },
          "execution_count": 9,
          "metadata": {},
          "output_type": "execute_result"
        }
      ],
      "source": [
        "sentence_list = nltk.sent_tokenize(article_text)\n",
        "sentence_list\n"
      ]
    },
    {
      "cell_type": "code",
      "execution_count": null,
      "id": "dedd732e-7da6-4a97-b0af-901f8dd5dc2e",
      "metadata": {
        "id": "dedd732e-7da6-4a97-b0af-901f8dd5dc2e",
        "outputId": "33fb7b37-d3e7-44ae-d03a-1c820f06d365"
      },
      "outputs": [
        {
          "data": {
            "text/plain": [
              "['just',\n",
              " 'what',\n",
              " 'is',\n",
              " 'agility',\n",
              " 'in',\n",
              " 'the',\n",
              " 'context',\n",
              " 'of',\n",
              " 'software',\n",
              " 'engineering',\n",
              " 'work',\n",
              " 'ivar',\n",
              " 'jacobs']"
            ]
          },
          "execution_count": 11,
          "metadata": {},
          "output_type": "execute_result"
        }
      ],
      "source": [
        "tokens = word_tokenize(clean_text)\n",
        "tokens\n"
      ]
    },
    {
      "cell_type": "code",
      "execution_count": null,
      "id": "9ef843ae-9f35-470f-a7ca-743e225ccbfc",
      "metadata": {
        "id": "9ef843ae-9f35-470f-a7ca-743e225ccbfc",
        "outputId": "367145fa-b199-460e-dfde-2ad2ba70d7be"
      },
      "outputs": [
        {
          "name": "stderr",
          "output_type": "stream",
          "text": [
            "[nltk_data] Downloading package stopwords to\n",
            "[nltk_data]     C:\\Users\\dhanu\\AppData\\Roaming\\nltk_data...\n",
            "[nltk_data]   Package stopwords is already up-to-date!\n"
          ]
        }
      ],
      "source": [
        "nltk.download('stopwords')  # Download stopwords dataset\n",
        "from nltk.corpus import stopwords\n",
        "stop_words = set(stopwords.words('english'))\n"
      ]
    },
    {
      "cell_type": "code",
      "execution_count": null,
      "id": "11aaec20-f2ea-45b1-8b90-c10d83fa777e",
      "metadata": {
        "id": "11aaec20-f2ea-45b1-8b90-c10d83fa777e",
        "outputId": "1b3bc682-2b5a-4ec8-8604-1661d5885bd6"
      },
      "outputs": [
        {
          "data": {
            "text/plain": [
              "{'agility': 1,\n",
              " 'context': 1,\n",
              " 'software': 1,\n",
              " 'engineering': 1,\n",
              " 'work': 1,\n",
              " 'ivar': 1,\n",
              " 'jacobs': 1}"
            ]
          },
          "execution_count": 15,
          "metadata": {},
          "output_type": "execute_result"
        }
      ],
      "source": [
        "word_frequencies = {}\n",
        "for word in tokens:\n",
        "    if word not in stop_words:\n",
        "        if word not in word_frequencies:\n",
        "            word_frequencies[word] = 1\n",
        "        else:\n",
        "            word_frequencies[word] += 1\n",
        "word_frequencies\n"
      ]
    },
    {
      "cell_type": "code",
      "execution_count": null,
      "id": "e219d5f5-61bb-4704-9dec-85b426b30e0a",
      "metadata": {
        "id": "e219d5f5-61bb-4704-9dec-85b426b30e0a",
        "outputId": "686ac745-38aa-47be-8b0f-066c3ecec017"
      },
      "outputs": [
        {
          "data": {
            "text/plain": [
              "Counter({'agility': 1,\n",
              "         'context': 1,\n",
              "         'software': 1,\n",
              "         'engineering': 1,\n",
              "         'work': 1,\n",
              "         'ivar': 1,\n",
              "         'jacobs': 1})"
            ]
          },
          "execution_count": 17,
          "metadata": {},
          "output_type": "execute_result"
        }
      ],
      "source": [
        "from collections import Counter\n",
        "dictionary = Counter(word_frequencies)\n",
        "dictionary\n"
      ]
    },
    {
      "cell_type": "code",
      "execution_count": null,
      "id": "9664e116-44d1-4d3c-9521-035ef3fab17f",
      "metadata": {
        "id": "9664e116-44d1-4d3c-9521-035ef3fab17f"
      },
      "outputs": [],
      "source": [
        "from nltk.stem import PorterStemmer\n",
        "from nltk.stem import LancasterStemmer\n"
      ]
    },
    {
      "cell_type": "code",
      "execution_count": null,
      "id": "065c389a-32fd-4b8e-9895-29433086fa62",
      "metadata": {
        "id": "065c389a-32fd-4b8e-9895-29433086fa62",
        "outputId": "fc87f9a7-085b-439d-cf3f-852870981443"
      },
      "outputs": [
        {
          "name": "stdout",
          "output_type": "stream",
          "text": [
            "cat\n",
            "cat\n",
            "troubl\n",
            "troubl\n",
            "troubl\n",
            "troubl\n"
          ]
        }
      ],
      "source": [
        "porter = PorterStemmer()\n",
        "lancaster = LancasterStemmer()\n",
        "\n",
        "print(porter.stem(\"cats\"))\n",
        "print(lancaster.stem(\"cats\"))\n",
        "print(porter.stem(\"troubling\"))\n",
        "print(lancaster.stem(\"troubling\"))\n",
        "print(porter.stem(\"troubled\"))\n",
        "print(lancaster.stem(\"troubled\"))\n"
      ]
    },
    {
      "cell_type": "code",
      "execution_count": null,
      "id": "deeae7f0-2242-4301-8e53-4f3c5784b991",
      "metadata": {
        "id": "deeae7f0-2242-4301-8e53-4f3c5784b991",
        "outputId": "ede755c0-482f-408f-cace-d271ec88ba34"
      },
      "outputs": [
        {
          "name": "stdout",
          "output_type": "stream",
          "text": [
            "Word                Porter Stemmer      Lancaster Stemmer   \n",
            "friend              friend              friend              \n",
            "friendship          friendship          friend              \n",
            "friends             friend              friend              \n",
            "friendships         friendship          friend              \n",
            "stabil              stabil              stabl               \n",
            "destabilize         destabil            dest                \n"
          ]
        }
      ],
      "source": [
        "word_list = [\"friend\", \"friendship\", \"friends\", \"friendships\", \"stabil\", \"destabilize\"]\n",
        "print(\"{:20}{:20}{:20}\".format(\"Word\", \"Porter Stemmer\", \"Lancaster Stemmer\"))\n",
        "for word in word_list:\n",
        "    print(\"{:20}{:20}{:20}\".format(word, porter.stem(word), lancaster.stem(word)))\n"
      ]
    },
    {
      "cell_type": "code",
      "execution_count": null,
      "id": "07f843ca-e44d-4d39-b1e6-3e318d5efec7",
      "metadata": {
        "id": "07f843ca-e44d-4d39-b1e6-3e318d5efec7",
        "outputId": "d78e5ac7-e03e-43a1-f2e1-0958612e2192"
      },
      "outputs": [
        {
          "data": {
            "text/plain": [
              "['just',\n",
              " ' ',\n",
              " 'what',\n",
              " ' ',\n",
              " 'is',\n",
              " ' ',\n",
              " 'agil',\n",
              " ' ',\n",
              " 'in',\n",
              " ' ',\n",
              " 'the',\n",
              " ' ',\n",
              " 'context',\n",
              " ' ',\n",
              " 'of',\n",
              " ' ',\n",
              " 'softwar',\n",
              " ' ',\n",
              " 'engin',\n",
              " ' ',\n",
              " 'work',\n",
              " ' ',\n",
              " 'ivar',\n",
              " ' ',\n",
              " 'jacob',\n",
              " ' ']"
            ]
          },
          "execution_count": 25,
          "metadata": {},
          "output_type": "execute_result"
        }
      ],
      "source": [
        "stem_sentence = []\n",
        "for word in tokens:\n",
        "    stem_sentence.append(porter.stem(word))\n",
        "    stem_sentence.append(\" \")\n",
        "stem_sentence\n"
      ]
    },
    {
      "cell_type": "code",
      "execution_count": null,
      "id": "5eb89777-69a7-4312-ba3c-36114579d37c",
      "metadata": {
        "id": "5eb89777-69a7-4312-ba3c-36114579d37c"
      },
      "outputs": [],
      "source": [
        "from nltk.stem import WordNetLemmatizer\n",
        "lemmatizer = WordNetLemmatizer()\n"
      ]
    },
    {
      "cell_type": "code",
      "execution_count": null,
      "id": "5eb5b5ed-4319-46b3-a67a-cf03e1fb4cb5",
      "metadata": {
        "id": "5eb5b5ed-4319-46b3-a67a-cf03e1fb4cb5",
        "outputId": "56e5ba4c-fdfe-4530-fbc1-4d45fe23c2fd"
      },
      "outputs": [
        {
          "name": "stderr",
          "output_type": "stream",
          "text": [
            "[nltk_data] Downloading package wordnet to\n",
            "[nltk_data]     C:\\Users\\dhanu\\AppData\\Roaming\\nltk_data...\n",
            "[nltk_data]   Package wordnet is already up-to-date!\n"
          ]
        },
        {
          "data": {
            "text/plain": [
              "True"
            ]
          },
          "execution_count": 29,
          "metadata": {},
          "output_type": "execute_result"
        }
      ],
      "source": [
        "import nltk\n",
        "nltk.download('wordnet')\n"
      ]
    },
    {
      "cell_type": "code",
      "execution_count": null,
      "id": "07877d10-f2c9-4a4e-843b-09c5be29aa54",
      "metadata": {
        "id": "07877d10-f2c9-4a4e-843b-09c5be29aa54"
      },
      "outputs": [],
      "source": [
        "def lemmatize_word(word):\n",
        "    return lemmatizer.lemmatize(word)\n"
      ]
    },
    {
      "cell_type": "code",
      "execution_count": null,
      "id": "3ed67f74-9f53-4c41-9c8a-6fe22d0b344b",
      "metadata": {
        "id": "3ed67f74-9f53-4c41-9c8a-6fe22d0b344b",
        "outputId": "25bdbbbb-5237-46ef-a1a2-e16c3db3c2e4"
      },
      "outputs": [
        {
          "name": "stdout",
          "output_type": "stream",
          "text": [
            "Word                Lemma               \n",
            "word1               word1               \n",
            "word2               word2               \n",
            "word3               word3               \n"
          ]
        }
      ],
      "source": [
        "word_list = [\"word1\", \"word2\", \"word3\"]\n",
        "print(\"{:20}{:20}\".format(\"Word\", \"Lemma\"))\n",
        "for word in word_list:\n",
        "    print(\"{:20}{:20}\".format(word, lemmatize_word(word)))\n"
      ]
    },
    {
      "cell_type": "code",
      "execution_count": null,
      "id": "cedb2101-931a-4a52-853f-f4230d4dea8e",
      "metadata": {
        "id": "cedb2101-931a-4a52-853f-f4230d4dea8e"
      },
      "outputs": [],
      "source": []
    }
  ],
  "metadata": {
    "kernelspec": {
      "display_name": "Python 3 (ipykernel)",
      "language": "python",
      "name": "python3"
    },
    "language_info": {
      "codemirror_mode": {
        "name": "ipython",
        "version": 3
      },
      "file_extension": ".py",
      "mimetype": "text/x-python",
      "name": "python",
      "nbconvert_exporter": "python",
      "pygments_lexer": "ipython3",
      "version": "3.12.4"
    },
    "colab": {
      "provenance": [],
      "include_colab_link": true
    }
  },
  "nbformat": 4,
  "nbformat_minor": 5
}